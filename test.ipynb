{
 "cells": [
  {
   "cell_type": "code",
   "execution_count": null,
   "id": "initial_id",
   "metadata": {
    "collapsed": true
   },
   "outputs": [],
   "source": []
  },
  {
   "cell_type": "code",
   "execution_count": 15,
   "outputs": [],
   "source": [
    "import torch\n",
    "from torch.autograd import Variable\n",
    "from torch.functional import F\n",
    "p1=torch.Tensor([[0,1],[0,1],[1,0]])\n",
    "l=torch.Tensor([0,1])\n",
    "l=torch.arange(0,2)\n",
    "label=Variable(F.one_hot(l,num_classes=5).cuda())"
   ],
   "metadata": {
    "collapsed": false,
    "ExecuteTime": {
     "end_time": "2023-10-31T12:11:40.895606311Z",
     "start_time": "2023-10-31T12:11:40.810507353Z"
    }
   },
   "id": "f537b3e0051f7947"
  },
  {
   "cell_type": "code",
   "execution_count": 16,
   "outputs": [
    {
     "data": {
      "text/plain": "(tensor([[1, 0, 0, 0, 0],\n         [0, 1, 0, 0, 0]], device='cuda:0'),\n tensor([0, 1]))"
     },
     "execution_count": 16,
     "metadata": {},
     "output_type": "execute_result"
    }
   ],
   "source": [
    "label,l"
   ],
   "metadata": {
    "collapsed": false,
    "ExecuteTime": {
     "end_time": "2023-10-31T12:11:42.292903391Z",
     "start_time": "2023-10-31T12:11:42.275053656Z"
    }
   },
   "id": "45c2e56b4412524c"
  },
  {
   "cell_type": "code",
   "execution_count": 3,
   "outputs": [
    {
     "name": "stdout",
     "output_type": "stream",
     "text": [
      "dim in 1024\n",
      "dim out 1000\n",
      "Evaluate......\n"
     ]
    },
    {
     "data": {
      "text/plain": "  0%|          | 0/67 [00:00<?, ?it/s]",
      "application/vnd.jupyter.widget-view+json": {
       "version_major": 2,
       "version_minor": 0,
       "model_id": "7515775e514b4973b7f6547fc9594e23"
      }
     },
     "metadata": {},
     "output_type": "display_data"
    },
    {
     "name": "stdout",
     "output_type": "stream",
     "text": [
      "0.8597475290298462 tensor([[622.,  83.,   6.,  19.],\n",
      "        [ 55., 199.,   6.,  33.],\n",
      "        [ 11.,  13., 824.,  27.],\n",
      "        [ 17.,  26.,   4., 194.]])\n"
     ]
    }
   ],
   "source": [
    "\n",
    "from torch.utils.data import DataLoader\n",
    "from tqdm.auto import tqdm\n",
    "from Dataload.Chaoyang import CHAOYANG\n",
    "from torchvision.transforms import transforms\n",
    "from Dataload.patchCamelyon import Camelyonpatch\n",
    "from model.models import SimSiam\n",
    "import torch\n",
    "from torch.autograd import Variable\n",
    "dataset='chaoyang'\n",
    "r=0.0\n",
    "if dataset=='chaoyang':\n",
    "    backbone='densenet121'\n",
    "    num_classes=4\n",
    "    batch_size = 32\n",
    "    r=0.0\n",
    "    test_dataset = CHAOYANG(root=\"/home/hangang/datasets/chaoyang-data\",\n",
    "                            json_name=\"test.json\",\n",
    "                            train=False,\n",
    "                            transform1=transforms.Compose([transforms.Resize((256,256)), transforms.ToTensor()]),\n",
    "                            )\n",
    "else:\n",
    "    backbone='densenet121'\n",
    "    num_classes=2\n",
    "    batch_size = 128\n",
    "    test_dataset = Camelyonpatch(train=False,\n",
    "                                 transform1=transforms.Compose([transforms.ToTensor()]))\n",
    "    \n",
    "model_net1 = SimSiam(0.99, backbone, num_classes)\n",
    "# model_net2 = model_net1\n",
    "model_net1.cuda()\n",
    "sd=torch.load(f'/home/hangang/桌面/log/bestchaoyang_0.0_sd(95.97%).pth')\n",
    "model_net1.load_state_dict(sd)\n",
    "test_load = DataLoader(test_dataset, batch_size, shuffle=False)\n",
    "\n",
    "def evaluate(val_load, model_net1_kd):\n",
    "    print(\"Evaluate......\")\n",
    "    model_net1_kd.eval()\n",
    "    # model_net2_kd.eval()\n",
    "    sum = 0\n",
    "    num = 0\n",
    "    TP1 = 0\n",
    "    FP1 = 0\n",
    "    FN1 = 0\n",
    "    TN1 = 0\n",
    "    conf_matrix1=torch.zeros(4,4)\n",
    "    \n",
    "    for x, y, index in tqdm(val_load):\n",
    "        with torch.no_grad():\n",
    "            x = Variable(x[0]).cuda()\n",
    "            y = Variable(y).cuda()\n",
    "            outputs1 = model_net1_kd.forward_test(x)\n",
    "            # y_hat2 = model_net2_kd.forward_test(x)\n",
    "            # y_hat = (y_hat2 + y_hat1) / 2.0\n",
    "            _, pred1 = torch.max(outputs1.data, 1)\n",
    "            for p, t in zip(pred1, y):\n",
    "                conf_matrix1[p, t] += 1\n",
    "            y_hat = outputs1\n",
    "            sum += y_hat.shape[0]\n",
    "            num += torch.sum(y_hat.argmax(dim=1).type(y.dtype) == y)\n",
    "\n",
    "    test_acc = float(num / sum)\n",
    "\n",
    "    return test_acc,conf_matrix1\n",
    "\n",
    "test_acc,conf_matrix = evaluate(test_load, model_net1,\n",
    "                            # model_net2,\n",
    "                            )\n",
    "print(test_acc,conf_matrix)"
   ],
   "metadata": {
    "collapsed": false,
    "ExecuteTime": {
     "end_time": "2024-03-07T03:08:06.066476417Z",
     "start_time": "2024-03-07T03:07:36.779760340Z"
    }
   },
   "id": "be88b09223d0e560"
  },
  {
   "cell_type": "code",
   "execution_count": 5,
   "outputs": [
    {
     "data": {
      "text/plain": "0.7984455724563102"
     },
     "execution_count": 5,
     "metadata": {},
     "output_type": "execute_result"
    }
   ],
   "source": [
    "pre=((622)/(622+55+11+17)+(199)/(199+83+13+26)+(824)/(16+824)+(194)/(194+27+33+19))/4.0\n",
    "pre"
   ],
   "metadata": {
    "collapsed": false,
    "ExecuteTime": {
     "end_time": "2024-03-07T03:17:57.693637900Z",
     "start_time": "2024-03-07T03:17:57.600255875Z"
    }
   },
   "id": "899eb22a4af17eec"
  },
  {
   "cell_type": "code",
   "execution_count": 6,
   "outputs": [
    {
     "data": {
      "text/plain": "0.8194823051797202"
     },
     "execution_count": 6,
     "metadata": {},
     "output_type": "execute_result"
    }
   ],
   "source": [
    "Roc=((622)/(622+83+6+19)+(199)/(55+199+6+33)+(824)/(11+13+824+27)+(194)/(17+26+4+194))/4.0\n",
    "Roc"
   ],
   "metadata": {
    "collapsed": false,
    "ExecuteTime": {
     "end_time": "2024-03-07T03:19:52.508808210Z",
     "start_time": "2024-03-07T03:19:52.495998363Z"
    }
   },
   "id": "5c14b04a73add47d"
  },
  {
   "cell_type": "code",
   "outputs": [
    {
     "data": {
      "text/plain": "0.808827176194108"
     },
     "execution_count": 7,
     "metadata": {},
     "output_type": "execute_result"
    }
   ],
   "source": [
    "F1=(2*pre*Roc)/(pre+Roc)\n",
    "F1"
   ],
   "metadata": {
    "collapsed": false,
    "ExecuteTime": {
     "end_time": "2024-03-07T03:21:49.630335217Z",
     "start_time": "2024-03-07T03:21:49.566872260Z"
    }
   },
   "id": "d574be292ef7e97a",
   "execution_count": 7
  },
  {
   "cell_type": "code",
   "outputs": [],
   "source": [],
   "metadata": {
    "collapsed": false
   },
   "id": "de500746077a56b7"
  }
 ],
 "metadata": {
  "kernelspec": {
   "display_name": "Python 3",
   "language": "python",
   "name": "python3"
  },
  "language_info": {
   "codemirror_mode": {
    "name": "ipython",
    "version": 2
   },
   "file_extension": ".py",
   "mimetype": "text/x-python",
   "name": "python",
   "nbconvert_exporter": "python",
   "pygments_lexer": "ipython2",
   "version": "2.7.6"
  }
 },
 "nbformat": 4,
 "nbformat_minor": 5
}
