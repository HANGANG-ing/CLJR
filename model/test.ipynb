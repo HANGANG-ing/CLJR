{
 "cells": [
  {
   "cell_type": "code",
   "execution_count": 2,
   "id": "initial_id",
   "metadata": {
    "collapsed": true,
    "ExecuteTime": {
     "end_time": "2023-11-28T03:44:17.411931537Z",
     "start_time": "2023-11-28T03:44:16.168413991Z"
    }
   },
   "outputs": [
    {
     "data": {
      "text/plain": "tensor([[[1, 0, 0],\n         [1, 0, 0],\n         [0, 1, 0],\n         [1, 0, 0],\n         [0, 1, 0],\n         [0, 0, 1]],\n\n        [[1, 0, 0],\n         [0, 1, 0],\n         [0, 1, 0],\n         [0, 1, 0],\n         [0, 0, 1],\n         [1, 0, 0]]])"
     },
     "execution_count": 2,
     "metadata": {},
     "output_type": "execute_result"
    }
   ],
   "source": [
    "import torch\n",
    "label=torch.tensor([[0,0,1,0,1,2],[0,1,1,1,2,0]])\n",
    "one_label=torch.nn.functional.one_hot(label,num_classes=3)\n",
    "one_label"
   ]
  },
  {
   "cell_type": "code",
   "execution_count": 3,
   "outputs": [],
   "source": [
    "Nlabel=(torch.ones(3)-one_label)/3*2"
   ],
   "metadata": {
    "collapsed": false,
    "ExecuteTime": {
     "end_time": "2023-11-28T03:44:18.976308803Z",
     "start_time": "2023-11-28T03:44:18.964690154Z"
    }
   },
   "id": "84f3fd4f72e5444c"
  },
  {
   "cell_type": "code",
   "execution_count": 10,
   "outputs": [
    {
     "data": {
      "text/plain": "tensor([[[0.0000, 0.6667, 0.6667],\n         [0.0000, 0.6667, 0.6667],\n         [0.6667, 0.0000, 0.6667],\n         [0.0000, 0.6667, 0.6667],\n         [0.6667, 0.0000, 0.6667],\n         [0.6667, 0.6667, 0.0000]],\n\n        [[0.0000, 0.6667, 0.6667],\n         [0.6667, 0.0000, 0.6667],\n         [0.6667, 0.0000, 0.6667],\n         [0.6667, 0.0000, 0.6667],\n         [0.6667, 0.6667, 0.0000],\n         [0.0000, 0.6667, 0.6667]]])"
     },
     "execution_count": 10,
     "metadata": {},
     "output_type": "execute_result"
    }
   ],
   "source": [
    "Nlabel"
   ],
   "metadata": {
    "collapsed": false,
    "ExecuteTime": {
     "end_time": "2023-11-27T09:12:01.702263979Z",
     "start_time": "2023-11-27T09:12:01.676605167Z"
    }
   },
   "id": "483b4ab0fdd95fd7"
  },
  {
   "cell_type": "code",
   "execution_count": 5,
   "outputs": [
    {
     "data": {
      "text/plain": "tensor([[0.2465, 0.5318, 0.2950, 0.3883],\n        [0.8325, 0.4854, 0.4569, 0.9656],\n        [0.0714, 0.6405, 0.9809, 0.8309]])"
     },
     "execution_count": 5,
     "metadata": {},
     "output_type": "execute_result"
    }
   ],
   "source": [
    "pre=torch.rand((3,4))\n",
    "pre"
   ],
   "metadata": {
    "collapsed": false,
    "ExecuteTime": {
     "end_time": "2023-11-28T03:44:40.718138320Z",
     "start_time": "2023-11-28T03:44:40.589385214Z"
    }
   },
   "id": "5e5c62bfab1b6312"
  },
  {
   "cell_type": "code",
   "execution_count": 15,
   "outputs": [
    {
     "data": {
      "text/plain": "tensor([1., 1., 1.])"
     },
     "execution_count": 15,
     "metadata": {},
     "output_type": "execute_result"
    }
   ],
   "source": [
    "mask=torch.ones(3)\n",
    "mask"
   ],
   "metadata": {
    "collapsed": false,
    "ExecuteTime": {
     "end_time": "2023-11-28T03:48:53.664303374Z",
     "start_time": "2023-11-28T03:48:53.641782551Z"
    }
   },
   "id": "b6d1e166080eaa00"
  },
  {
   "cell_type": "code",
   "execution_count": 16,
   "outputs": [],
   "source": [
    "mask[1]=0"
   ],
   "metadata": {
    "collapsed": false,
    "ExecuteTime": {
     "end_time": "2023-11-28T03:49:10.569697826Z",
     "start_time": "2023-11-28T03:49:10.558400434Z"
    }
   },
   "id": "e240e337100ed626"
  },
  {
   "cell_type": "code",
   "execution_count": 17,
   "outputs": [],
   "source": [
    "pre_mask=pre*mask.unsqueeze(1)"
   ],
   "metadata": {
    "collapsed": false,
    "ExecuteTime": {
     "end_time": "2023-11-28T03:49:11.098598381Z",
     "start_time": "2023-11-28T03:49:11.092000067Z"
    }
   },
   "id": "842cf0bed12e74ad"
  },
  {
   "cell_type": "code",
   "execution_count": 18,
   "outputs": [
    {
     "data": {
      "text/plain": "(tensor([[0.2465, 0.5318, 0.2950, 0.3883],\n         [0.8325, 0.4854, 0.4569, 0.9656],\n         [0.0714, 0.6405, 0.9809, 0.8309]]),\n tensor([[0.2465, 0.5318, 0.2950, 0.3883],\n         [0.0000, 0.0000, 0.0000, 0.0000],\n         [0.0714, 0.6405, 0.9809, 0.8309]]))"
     },
     "execution_count": 18,
     "metadata": {},
     "output_type": "execute_result"
    }
   ],
   "source": [
    "pre,pre_mask"
   ],
   "metadata": {
    "collapsed": false,
    "ExecuteTime": {
     "end_time": "2023-11-28T03:49:11.902059796Z",
     "start_time": "2023-11-28T03:49:11.878136025Z"
    }
   },
   "id": "4c2a4214bbeb2443"
  },
  {
   "cell_type": "code",
   "execution_count": null,
   "outputs": [],
   "source": [],
   "metadata": {
    "collapsed": false
   },
   "id": "3dc7c33d7eff0161"
  }
 ],
 "metadata": {
  "kernelspec": {
   "display_name": "Python 3",
   "language": "python",
   "name": "python3"
  },
  "language_info": {
   "codemirror_mode": {
    "name": "ipython",
    "version": 2
   },
   "file_extension": ".py",
   "mimetype": "text/x-python",
   "name": "python",
   "nbconvert_exporter": "python",
   "pygments_lexer": "ipython2",
   "version": "2.7.6"
  }
 },
 "nbformat": 4,
 "nbformat_minor": 5
}
